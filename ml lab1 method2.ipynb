{
 "cells": [
  {
   "cell_type": "code",
   "execution_count": 27,
   "metadata": {},
   "outputs": [
    {
     "name": "stdout",
     "output_type": "stream",
     "text": [
      "     Sky AirTemp Humidity    Wind Water Forecast EnjoySport\n",
      "0  Sunny    Warm   Normal  Strong  Warm     Same        Yes\n",
      "1  Sunny    Warm     High  Strong  Warm     Same        Yes\n",
      "2  Rainy   Cold      High  Strong  Warm   Change         No\n",
      "3  Sunny    Warm     High  Strong  Cool   Change        Yes\n",
      "     Sky AirTemp Humidity    Wind Water Forecast EnjoySport\n",
      "0  Sunny    Warm   Normal  Strong  Warm     Same        Yes\n",
      "1  Sunny    Warm     High  Strong  Warm     Same        Yes\n",
      "2  Rainy   Cold      High  Strong  Warm   Change         No\n",
      "3  Sunny    Warm     High  Strong  Cool   Change        Yes\n"
     ]
    }
   ],
   "source": [
    "import pandas as pd\n",
    "data = pd.read_csv('Book1.csv')\n",
    "print(data)\n",
    "columnLength = data.shape[1]\n",
    "print(data)"
   ]
  },
  {
   "cell_type": "code",
   "execution_count": 29,
   "metadata": {},
   "outputs": [],
   "source": [
    "h = ['0']*(columnLength-1)\n",
    "hp=[]\n",
    "hn=[]"
   ]
  },
  {
   "cell_type": "code",
   "execution_count": 30,
   "metadata": {},
   "outputs": [],
   "source": [
    "for trainingExample in data.values:\n",
    "    if trainingExample[-1] !='No':\n",
    "        hp.append(list(trainingExample))\n",
    "    else:\n",
    "        hn.append(list(trainingExample))"
   ]
  },
  {
   "cell_type": "code",
   "execution_count": 31,
   "metadata": {},
   "outputs": [],
   "source": [
    "for i in range (len(hp)):\n",
    "    for j in range(columnLength-1):\n",
    "        if(h[j]=='0'):\n",
    "            h[j]=hp[i][j]\n",
    "        if(h[j]!=hp[i][j]):\n",
    "            h[j]='?'\n",
    "        else:\n",
    "            h[j]=hp[i][j]"
   ]
  },
  {
   "cell_type": "code",
   "execution_count": 32,
   "metadata": {},
   "outputs": [
    {
     "name": "stdout",
     "output_type": "stream",
     "text": [
      "\n",
      " The positive Hypothesis are\n",
      "[['Sunny', 'Warm', 'Normal', 'Strong', 'Warm', 'Same', 'Yes'], ['Sunny', 'Warm', 'High', 'Strong', 'Warm', 'Same', 'Yes'], ['Sunny', 'Warm', 'High', 'Strong', 'Cool', 'Change', 'Yes']]\n",
      "\n",
      " The negative Hypothesis are\n",
      "[['Rainy', 'Cold ', 'High', 'Strong', 'Warm', 'Change', 'No']]\n",
      "\n",
      " The Maximaly specific hypothesis h is\n",
      "['Sunny', 'Warm', '?', 'Strong', '?', '?']\n"
     ]
    }
   ],
   "source": [
    "print('\\n The positive Hypothesis are')\n",
    "print(hp)\n",
    "print('\\n The negative Hypothesis are')\n",
    "print(hn)\n",
    "print('\\n The Maximaly specific hypothesis h is')\n",
    "print(h)"
   ]
  },
  {
   "cell_type": "code",
   "execution_count": 36,
   "metadata": {},
   "outputs": [],
   "source": [
    "for i in range(len(hp)):\n",
    "    for j in range(columnLength-1):\n",
    "        if(h[j]=='0'):\n",
    "            h[j] = hp[i][j]\n",
    "            if(h[j]!=hp[i][j]):\n",
    "                h[j] = '?'\n",
    "            else:\n",
    "                h[j] = hp[i][j]"
   ]
  },
  {
   "cell_type": "code",
   "execution_count": 34,
   "metadata": {},
   "outputs": [
    {
     "name": "stdout",
     "output_type": "stream",
     "text": [
      "\n",
      " positive hypothesis are : \n",
      "[['Sunny', 'Warm', 'Normal', 'Strong', 'Warm', 'Same', 'Yes'], ['Sunny', 'Warm', 'High', 'Strong', 'Warm', 'Same', 'Yes'], ['Sunny', 'Warm', 'High', 'Strong', 'Cool', 'Change', 'Yes']]\n",
      "\n",
      " negative hypothesis are : \n",
      "[['Rainy', 'Cold ', 'High', 'Strong', 'Warm', 'Change', 'No']]\n"
     ]
    }
   ],
   "source": [
    "print('\\n positive hypothesis are : ')\n",
    "print(hp)\n",
    "print('\\n negative hypothesis are : ')\n",
    "print(hn)"
   ]
  }
 ],
 "metadata": {
  "kernelspec": {
   "display_name": "Python 3.7.2 64-bit",
   "language": "python",
   "name": "python37264bitcfbb875b6ac4440ab79e51007f21148e"
  },
  "language_info": {
   "codemirror_mode": {
    "name": "ipython",
    "version": 3
   },
   "file_extension": ".py",
   "mimetype": "text/x-python",
   "name": "python",
   "nbconvert_exporter": "python",
   "pygments_lexer": "ipython3",
   "version": "3.7.2"
  }
 },
 "nbformat": 4,
 "nbformat_minor": 4
}
