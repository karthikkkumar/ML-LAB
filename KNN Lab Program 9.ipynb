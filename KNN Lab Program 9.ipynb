{
 "cells": [
  {
   "cell_type": "markdown",
   "metadata": {},
   "source": [
    "# K-Nearest Neighbour"
   ]
  },
  {
   "cell_type": "code",
   "execution_count": 5,
   "metadata": {},
   "outputs": [],
   "source": [
    "from sklearn.model_selection import train_test_split\n",
    "from sklearn.neighbors import KNeighborsClassifier\n",
    "from sklearn import datasets"
   ]
  },
  {
   "cell_type": "code",
   "execution_count": 6,
   "metadata": {},
   "outputs": [
    {
     "name": "stdout",
     "output_type": "stream",
     "text": [
      "Iris Data set loaded..\n"
     ]
    }
   ],
   "source": [
    "iris = datasets.load_iris()\n",
    "print('Iris Data set loaded..')"
   ]
  },
  {
   "cell_type": "code",
   "execution_count": 7,
   "metadata": {},
   "outputs": [
    {
     "name": "stdout",
     "output_type": "stream",
     "text": [
      "Dataset is split into training and testing... \n",
      "Size of training data and its label  (135, 4) (135,)\n",
      "Size of training data and its label  (15, 4) (15,)\n"
     ]
    }
   ],
   "source": [
    "x_train,x_test,y_train,y_test = train_test_split(iris.data,iris.target,test_size=0.1)\n",
    "print('Dataset is split into training and testing... ')\n",
    "print('Size of training data and its label ',x_train.shape,y_train.shape)\n",
    "print('Size of training data and its label ',x_test.shape,y_test.shape)"
   ]
  },
  {
   "cell_type": "code",
   "execution_count": 8,
   "metadata": {},
   "outputs": [
    {
     "name": "stdout",
     "output_type": "stream",
     "text": [
      "Label 0 - setosa\n",
      "Label 1 - versicolor\n",
      "Label 2 - virginica\n"
     ]
    }
   ],
   "source": [
    "for i in range(len(iris.target_names)):\n",
    "    print('Label',i,'-',str(iris.target_names[i]))"
   ]
  },
  {
   "cell_type": "code",
   "execution_count": 9,
   "metadata": {},
   "outputs": [],
   "source": [
    "classifier = KNeighborsClassifier(n_neighbors=1)"
   ]
  },
  {
   "cell_type": "code",
   "execution_count": 10,
   "metadata": {},
   "outputs": [],
   "source": [
    "classifier.fit(x_train,y_train)\n",
    "y_pred = classifier.predict(x_test)"
   ]
  },
  {
   "cell_type": "code",
   "execution_count": 13,
   "metadata": {},
   "outputs": [
    {
     "name": "stdout",
     "output_type": "stream",
     "text": [
      "Results of Classificationusing k-nn with K=1\n",
      "Sample :  [5.1 3.4 1.5 0.2] Actual-label :  0 Predicted-label :  0\n",
      "Classification Accuracy:  1.0\n",
      "Sample :  [4.9 3.1 1.5 0.2] Actual-label :  0 Predicted-label :  0\n",
      "Classification Accuracy:  1.0\n",
      "Sample :  [5.8 2.6 4.  1.2] Actual-label :  1 Predicted-label :  1\n",
      "Classification Accuracy:  1.0\n",
      "Sample :  [5.1 3.3 1.7 0.5] Actual-label :  0 Predicted-label :  0\n",
      "Classification Accuracy:  1.0\n",
      "Sample :  [6.5 3.  5.2 2. ] Actual-label :  2 Predicted-label :  2\n",
      "Classification Accuracy:  1.0\n",
      "Sample :  [5.8 2.7 4.1 1. ] Actual-label :  1 Predicted-label :  1\n",
      "Classification Accuracy:  1.0\n",
      "Sample :  [5.9 3.  4.2 1.5] Actual-label :  1 Predicted-label :  1\n",
      "Classification Accuracy:  1.0\n",
      "Sample :  [6.7 3.1 4.7 1.5] Actual-label :  1 Predicted-label :  1\n",
      "Classification Accuracy:  1.0\n",
      "Sample :  [5.4 3.4 1.5 0.4] Actual-label :  0 Predicted-label :  0\n",
      "Classification Accuracy:  1.0\n",
      "Sample :  [4.3 3.  1.1 0.1] Actual-label :  0 Predicted-label :  0\n",
      "Classification Accuracy:  1.0\n",
      "Sample :  [5.1 3.8 1.6 0.2] Actual-label :  0 Predicted-label :  0\n",
      "Classification Accuracy:  1.0\n",
      "Sample :  [7.7 3.8 6.7 2.2] Actual-label :  2 Predicted-label :  2\n",
      "Classification Accuracy:  1.0\n",
      "Sample :  [5.6 3.  4.5 1.5] Actual-label :  1 Predicted-label :  1\n",
      "Classification Accuracy:  1.0\n",
      "Sample :  [6.9 3.1 5.4 2.1] Actual-label :  2 Predicted-label :  2\n",
      "Classification Accuracy:  1.0\n",
      "Sample :  [6.6 3.  4.4 1.4] Actual-label :  1 Predicted-label :  1\n",
      "Classification Accuracy:  1.0\n"
     ]
    }
   ],
   "source": [
    "print('Results of Classificationusing k-nn with K=1')\n",
    "for r in range(0,len(x_test)):\n",
    "    print('Sample : ',str(x_test[r]),'Actual-label : ',str(y_test[r]),'Predicted-label : ',str(y_pred[r]))\n",
    "    print('Classification Accuracy: ',classifier.score(x_test,y_test))"
   ]
  },
  {
   "cell_type": "code",
   "execution_count": 14,
   "metadata": {},
   "outputs": [
    {
     "name": "stdout",
     "output_type": "stream",
     "text": [
      "Confusion Matrix\n",
      "[[6 0 0]\n",
      " [0 6 0]\n",
      " [0 0 3]]\n",
      "Accuracy Metrics\n",
      "              precision    recall  f1-score   support\n",
      "\n",
      "           0       1.00      1.00      1.00         6\n",
      "           1       1.00      1.00      1.00         6\n",
      "           2       1.00      1.00      1.00         3\n",
      "\n",
      "    accuracy                           1.00        15\n",
      "   macro avg       1.00      1.00      1.00        15\n",
      "weighted avg       1.00      1.00      1.00        15\n",
      "\n"
     ]
    }
   ],
   "source": [
    "from sklearn.metrics import classification_report,confusion_matrix \n",
    "print('Confusion Matrix')\n",
    "print(confusion_matrix(y_test,y_pred))\n",
    "print('Accuracy Metrics')\n",
    "print(classification_report(y_test,y_pred))"
   ]
  },
  {
   "cell_type": "code",
   "execution_count": null,
   "metadata": {},
   "outputs": [],
   "source": []
  }
 ],
 "metadata": {
  "kernelspec": {
   "display_name": "Python 3",
   "language": "python",
   "name": "python3"
  },
  "language_info": {
   "codemirror_mode": {
    "name": "ipython",
    "version": 3
   },
   "file_extension": ".py",
   "mimetype": "text/x-python",
   "name": "python",
   "nbconvert_exporter": "python",
   "pygments_lexer": "ipython3",
   "version": "3.7.6"
  }
 },
 "nbformat": 4,
 "nbformat_minor": 4
}
