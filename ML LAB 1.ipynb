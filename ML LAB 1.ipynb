{
 "cells": [
  {
   "cell_type": "markdown",
   "metadata": {},
   "source": [
    "# FIND S ALGORITHM"
   ]
  },
  {
   "cell_type": "code",
   "execution_count": 7,
   "metadata": {},
   "outputs": [
    {
     "name": "stdout",
     "output_type": "stream",
     "text": [
      "[['Sunny', 'Rain'], ['Warm', 'Cold'], ['Normal', 'High'], ['Strong', 'Weak'], ['Same', 'Change'], ['Warm', 'Cool']]\n",
      "6\n",
      "\n",
      " the most general hypotesis : ['?','?','?','?','?','?'] \n",
      "\n",
      "\n",
      " the specific general hypotesis : ['0','0','0','0','0','0'] \n",
      "\n"
     ]
    }
   ],
   "source": [
    "import random\n",
    "import csv\n",
    "attributes= [['Sunny','Rain'],\n",
    "            ['Warm','Cold'],\n",
    "             ['Normal','High'],\n",
    "            ['Strong','Weak'],\n",
    "            ['Same','Change'],\n",
    "            ['Warm','Cool']]\n",
    "print(attributes)\n",
    "num_attributes = len(attributes)\n",
    "print(num_attributes)\n",
    "print(\"\\n the most general hypotesis : ['?','?','?','?','?','?'] \\n\")\n",
    "print(\"\\n the specific general hypotesis : ['0','0','0','0','0','0'] \\n\")"
   ]
  },
  {
   "cell_type": "code",
   "execution_count": 12,
   "metadata": {},
   "outputs": [
    {
     "name": "stdout",
     "output_type": "stream",
     "text": [
      "\n",
      " the given training dataset \n",
      "\n",
      "['Sky', 'AirTemp', 'Humidity', 'Wind', 'Water', 'Forecast', 'EnjoySport']\n",
      "['Sunny', 'Warm', 'Normal', 'Strong', 'Warm', 'Same', 'Yes']\n",
      "['Sunny', 'Warm', 'High', 'Strong', 'Warm', 'Same', 'Yes']\n",
      "['Rainy', 'Cold ', 'High', 'Strong', 'Warm', 'Change', 'No']\n",
      "['Sunny', 'Warm', 'High', 'Strong', 'Cool', 'Change', 'Yes']\n"
     ]
    }
   ],
   "source": [
    "a = []\n",
    "print(\"\\n the given training dataset \\n\")\n",
    "with open('Book1.csv','r') as csvFile:\n",
    "    reader = csv.reader(csvFile)\n",
    "    for row in reader:\n",
    "        a.append(row)\n",
    "        print(row)"
   ]
  },
  {
   "cell_type": "code",
   "execution_count": 14,
   "metadata": {},
   "outputs": [
    {
     "name": "stdout",
     "output_type": "stream",
     "text": [
      "\n",
      " the intial value of hypothesis :\n",
      "['0', '0', '0', '0', '0', '0']\n"
     ]
    }
   ],
   "source": [
    "print(\"\\n the intial value of hypothesis :\")\n",
    "h = ['0']*num_attributes\n",
    "print(h)"
   ]
  },
  {
   "cell_type": "code",
   "execution_count": 17,
   "metadata": {},
   "outputs": [
    {
     "name": "stdout",
     "output_type": "stream",
     "text": [
      "\n",
      " for trainning examples : 5 the hypothesis \n",
      " ['Sunny', 'Warm', '?', 'Strong', '?', '?']\n"
     ]
    }
   ],
   "source": [
    "for i in range(0,len(a)):\n",
    "    if a[i][num_attributes] == 'Yes':\n",
    "        for j in range(num_attributes):\n",
    "            if h[j] == '0' or h[j] == a[i][j]:\n",
    "                h[j] = a[i][j]\n",
    "            else:\n",
    "                h[j] = '?'\n",
    "print(\"\\n for trainning examples : {0} the hypothesis \\n\".format(i+1),h)"
   ]
  }
 ],
 "metadata": {
  "kernelspec": {
   "display_name": "Python 3.7.2 64-bit",
   "language": "python",
   "name": "python37264bitcfbb875b6ac4440ab79e51007f21148e"
  },
  "language_info": {
   "codemirror_mode": {
    "name": "ipython",
    "version": 3
   },
   "file_extension": ".py",
   "mimetype": "text/x-python",
   "name": "python",
   "nbconvert_exporter": "python",
   "pygments_lexer": "ipython3",
   "version": "3.7.2"
  }
 },
 "nbformat": 4,
 "nbformat_minor": 4
}
