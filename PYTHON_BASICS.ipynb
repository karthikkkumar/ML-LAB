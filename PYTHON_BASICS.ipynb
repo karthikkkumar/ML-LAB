{
 "cells": [
  {
   "cell_type": "markdown",
   "metadata": {},
   "source": [
    "# First Program"
   ]
  },
  {
   "cell_type": "code",
   "execution_count": 1,
   "metadata": {},
   "outputs": [
    {
     "name": "stdout",
     "output_type": "stream",
     "text": [
      "enter the principal amount : 10000\n",
      "enter the time period : 4\n",
      "enter the rate of interest : 9\n",
      "the simple interest is :  3600.0\n"
     ]
    }
   ],
   "source": [
    "p = int(input(\"enter the principal amount : \"))\n",
    "t = int(input(\"enter the time period : \"))\n",
    "r = float(input(\"enter the rate of interest : \"))\n",
    "si = p*t*r/100\n",
    "print(\"the simple interest is : \",si)"
   ]
  },
  {
   "cell_type": "markdown",
   "metadata": {},
   "source": [
    "# Output Using Print"
   ]
  },
  {
   "cell_type": "code",
   "execution_count": 8,
   "metadata": {},
   "outputs": [
    {
     "name": "stdout",
     "output_type": "stream",
     "text": [
      "this is the output to the screen\n",
      "the value of a is :  5\n",
      "x : 10 20 30 40\n",
      "the value of x 50 and y 100\n",
      "i love bread and jam \n",
      "i love jam and bread\n"
     ]
    }
   ],
   "source": [
    "print('''this is the output to the screen''')\n",
    "a = 5\n",
    "print('the value of a is : ',a)\n",
    "print('x :',10,20,30,40)\n",
    "x = 50; y = 100\n",
    "print('the value of x {} and y {}'.format(x,y))\n",
    "print('i love {0} and {1} '.format('bread','jam'))\n",
    "print('i love {1} and {0}'.format('bread','jam'))"
   ]
  },
  {
   "cell_type": "code",
   "execution_count": 14,
   "metadata": {},
   "outputs": [
    {
     "name": "stdout",
     "output_type": "stream",
     "text": [
      "hello karthik k kumar goodmorning\n"
     ]
    }
   ],
   "source": [
    "print('hello {name} {greeting}'.format(greeting = 'goodmorning',name = 'karthik k kumar'))"
   ]
  },
  {
   "cell_type": "code",
   "execution_count": 18,
   "metadata": {},
   "outputs": [
    {
     "name": "stdout",
     "output_type": "stream",
     "text": [
      "the value of x is 12.35\n",
      "the value of x is 12.3457\n"
     ]
    }
   ],
   "source": [
    "x = 12.34567890\n",
    "print('the value of x is %3.2f' %x)\n",
    "print('the value of x is %3.4f' %x)"
   ]
  },
  {
   "cell_type": "code",
   "execution_count": 22,
   "metadata": {},
   "outputs": [
    {
     "name": "stdout",
     "output_type": "stream",
     "text": [
      " 1   1    1\n",
      " 2   4    8\n",
      " 3   9   27\n",
      " 4  16   64\n",
      " 5  25  125\n",
      " 6  36  216\n",
      " 7  49  343\n",
      " 8  64  512\n",
      " 9  81  729\n",
      "10 100 1000\n"
     ]
    }
   ],
   "source": [
    "for x in range(1,11):\n",
    "    print('{0:2d} {1:3d} {2:4d}'.format( x, x*x, x*x*x))"
   ]
  },
  {
   "cell_type": "code",
   "execution_count": 24,
   "metadata": {},
   "outputs": [
    {
     "name": "stdout",
     "output_type": "stream",
     "text": [
      "karthik    ==> 9535415926\n",
      "kaka       ==> 9902908291\n",
      "babu       ==>  988049699\n"
     ]
    }
   ],
   "source": [
    "table = {'karthik':9535415926,'kaka':9902908291,'babu':988049699}\n",
    "for name,phone in table.items():\n",
    "    print('{0:10} ==> {1:10d}'.format(name,phone))"
   ]
  },
  {
   "cell_type": "code",
   "execution_count": 1,
   "metadata": {},
   "outputs": [
    {
     "name": "stdout",
     "output_type": "stream",
     "text": [
      "the value of pi approximately is 3.142.\n"
     ]
    }
   ],
   "source": [
    "import math\n",
    "print('the value of pi approximately is %5.3f.' % math.pi)"
   ]
  },
  {
   "cell_type": "markdown",
   "metadata": {},
   "source": [
    "# Input Using input"
   ]
  },
  {
   "cell_type": "code",
   "execution_count": 3,
   "metadata": {},
   "outputs": [
    {
     "name": "stdout",
     "output_type": "stream",
     "text": [
      "enter a string : karthik k kumar\n",
      "the entered string is karthik k kumar\n",
      "enter a integer : 5\n",
      "the entered integer is :  5\n",
      "enter a floating point number : 10.98\n",
      "the entered floating point number is :  10.98\n"
     ]
    }
   ],
   "source": [
    "x = input('enter a string : ')\n",
    "print('the entered string is {0}'.format(x))\n",
    "y = int(input('enter a integer : '))\n",
    "print('the entered integer is : ',y)\n",
    "z = float(input('enter a floating point number : '))\n",
    "print('the entered floating point number is : ',z)"
   ]
  },
  {
   "cell_type": "markdown",
   "metadata": {},
   "source": [
    "# Multiline Statements"
   ]
  },
  {
   "cell_type": "code",
   "execution_count": 4,
   "metadata": {},
   "outputs": [
    {
     "name": "stdout",
     "output_type": "stream",
     "text": [
      "x has a value of 1234\n",
      "y has a value of 121112\n",
      "['Monday', 'Tuesday', 'Wednesday', 'Thursday', 'Friday']\n",
      "{'one': 'Monday'}\n"
     ]
    }
   ],
   "source": [
    "x = ('1' + '2' +\n",
    "     '3' + '4')\n",
    "y = '1' + '2' + \\\n",
    "'11' + '12'\n",
    "weekdays = ['Monday', 'Tuesday', 'Wednesday',\n",
    "'Thursday', 'Friday']\n",
    "weekday = {'one':\n",
    "           'Monday'}\n",
    "print ('x has a value of', x)\n",
    "print ('y has a value of', y)\n",
    "print(weekdays)\n",
    "print(weekday)"
   ]
  },
  {
   "cell_type": "code",
   "execution_count": 5,
   "metadata": {},
   "outputs": [
    {
     "name": "stdout",
     "output_type": "stream",
     "text": [
      "hello\n"
     ]
    }
   ],
   "source": [
    "import os\n",
    "x = 'hello'\n",
    "print(x)"
   ]
  },
  {
   "cell_type": "markdown",
   "metadata": {},
   "source": [
    "# Conditional Execution \n",
    "Example code for 'if' statement"
   ]
  },
  {
   "cell_type": "code",
   "execution_count": 9,
   "metadata": {},
   "outputs": [
    {
     "name": "stdout",
     "output_type": "stream",
     "text": [
      "-1\n",
      "the value of var is negative\n",
      "the value of var is negative\n"
     ]
    }
   ],
   "source": [
    "var = -1\n",
    "if var < 0:\n",
    "    print(var)\n",
    "    print(\"the value of var is negative\")\n",
    "if ( var == -1 ) : \n",
    "    print(\"the value of var is negative\")"
   ]
  },
  {
   "cell_type": "code",
   "execution_count": 10,
   "metadata": {},
   "outputs": [
    {
     "name": "stdout",
     "output_type": "stream",
     "text": [
      "the value of var is positive\n",
      "1\n"
     ]
    }
   ],
   "source": [
    "var = 1\n",
    "if var < 0:\n",
    "    print(\"the value of var is negative\")\n",
    "    print(var)\n",
    "else:\n",
    "    print(\"the value of var is positive\")\n",
    "    print(var)"
   ]
  },
  {
   "cell_type": "code",
   "execution_count": 11,
   "metadata": {},
   "outputs": [
    {
     "name": "stdout",
     "output_type": "stream",
     "text": [
      "B\n"
     ]
    },
    {
     "data": {
      "text/plain": [
       "3.0"
      ]
     },
     "execution_count": 11,
     "metadata": {},
     "output_type": "execute_result"
    }
   ],
   "source": [
    "score = 95\n",
    "if score >= 99:\n",
    "    print('A')\n",
    "elif score >=75:\n",
    "    print('B')\n",
    "elif score >= 60:\n",
    "    print('C')\n",
    "elif score >= 35:\n",
    "    print('D')\n",
    "else:\n",
    "    print('F')\n",
    "3.0"
   ]
  },
  {
   "cell_type": "markdown",
   "metadata": {},
   "source": [
    "# Iterations"
   ]
  },
  {
   "cell_type": "markdown",
   "metadata": {},
   "source": [
    "# Use of for loop"
   ]
  },
  {
   "cell_type": "code",
   "execution_count": 1,
   "metadata": {},
   "outputs": [
    {
     "name": "stdout",
     "output_type": "stream",
     "text": [
      "first example\n",
      "item : 1\n",
      "item : 2\n",
      "item : 3\n",
      "item : 4\n",
      "item : 5\n",
      "Second Example\n",
      "First loop letter : A\n",
      "First loop letter : B\n",
      "First loop letter : C\n"
     ]
    }
   ],
   "source": [
    "print(\"first example\")\n",
    "for item in [1,2,3,4,5]:\n",
    "    print('item :', item)\n",
    "print(\"Second Example\")\n",
    "letters = ['A', 'B', 'C']\n",
    "for index in range(len(letters)):\n",
    "    print('First loop letter :', letters[index])"
   ]
  },
  {
   "cell_type": "code",
   "execution_count": 2,
   "metadata": {},
   "outputs": [
    {
     "name": "stdout",
     "output_type": "stream",
     "text": [
      "The count is: 0\n",
      "The count is: 1\n",
      "The count is: 2\n"
     ]
    }
   ],
   "source": [
    "count = 0\n",
    "while (count <3):\n",
    "    print('The count is:', count)\n",
    "    count = count + 1"
   ]
  },
  {
   "cell_type": "markdown",
   "metadata": {},
   "source": [
    "# Lists"
   ]
  },
  {
   "cell_type": "code",
   "execution_count": 4,
   "metadata": {},
   "outputs": [
    {
     "name": "stdout",
     "output_type": "stream",
     "text": [
      "list_1[0]:  statistics\n",
      "list2_[1:5]:  ['b', 1, 2, 3]\n"
     ]
    }
   ],
   "source": [
    "list_1 = ['statistics', 'programming', 2018, 2019, 2020]\n",
    "list_2 = ['a', 'b', 1, 2, 3, 4, 5, 6, 7 ]\n",
    "print(\"list_1[0]: \", list_1[0])\n",
    "print(\"list2_[1:5]: \", list_2[1:5])"
   ]
  },
  {
   "cell_type": "code",
   "execution_count": 5,
   "metadata": {},
   "outputs": [
    {
     "name": "stdout",
     "output_type": "stream",
     "text": [
      "list_1 values:  ['statistics', 'programming', 2018, 2019, 2020]\n",
      "list_1 values post append:  ['statistics', 'programming', 2018, 2019, 2020, 2020]\n"
     ]
    }
   ],
   "source": [
    "print(\"list_1 values: \", list_1)\n",
    "list_1.append(2020)\n",
    "print(\"list_1 values post append: \", list_1)"
   ]
  },
  {
   "cell_type": "code",
   "execution_count": 8,
   "metadata": {},
   "outputs": [
    {
     "name": "stdout",
     "output_type": "stream",
     "text": [
      "values of list_1:  ['statistics', 'programming', 2015, 2019, 2020, 2020]\n",
      "index 2 value :  2015\n",
      "index 2's new value :  2016\n"
     ]
    }
   ],
   "source": [
    "print(\"values of list_1: \", list_1)\n",
    "print(\"index 2 value : \", list_1[2])\n",
    "list_1[2] = 2016;\n",
    "print(\"index 2's new value : \", list_1[2])"
   ]
  },
  {
   "cell_type": "code",
   "execution_count": 10,
   "metadata": {},
   "outputs": [
    {
     "name": "stdout",
     "output_type": "stream",
     "text": [
      "list_1 values:  ['statistics', 'programming', 2016, 2019, 2020, 2020]\n",
      "after deleting value at index 2 : \n"
     ]
    }
   ],
   "source": [
    "print(\"list_1 values: \", list_1)\n",
    "del list_1[5];\n",
    "print(\"after deleting value at index 2 : \")"
   ]
  },
  {
   "cell_type": "markdown",
   "metadata": {},
   "source": [
    "# Example for basic List operation"
   ]
  },
  {
   "cell_type": "code",
   "execution_count": 28,
   "metadata": {},
   "outputs": [
    {
     "name": "stdout",
     "output_type": "stream",
     "text": [
      "length is :  5\n",
      "concatenation :  [1, 2, 3, 4, 5, 6, 7, 8, 9]\n",
      "repetation :  ['hello', 'hello', 'hello', 'hello']\n",
      "membership :  True\n",
      "iteration : \n",
      "1\n",
      "2\n",
      "3\n",
      "4\n",
      "5\n",
      "slicing :  2018\n",
      "slice range :  ['programming', 2018, 2019, 2020]\n",
      "max in list :  99\n",
      "max in list :  1\n",
      "count number of 10 in the list :  2\n",
      "['statistics', 'programming', 2018, 2019, 2020, 'a', 'b', 1, 2, 3, 4, 5, 6, 7]\n",
      "index for programming: 1\n",
      "['statistics', 'programming', 2018, 2019, 2020, 'a', 'b', 1, 2, 3, 4, 5, 6, 7]\n",
      "pop last item in list:  7\n",
      "pop the item with index 2:  2018\n",
      "removed b from list:  ['statistics', 'programming', 2019, 2020, 'a', 1, 2, 3, 4, 5, 6]\n",
      "Reverse:  [6, 5, 4, 3, 2, 1, 'a', 2020, 2019, 'programming', 'statistics']\n",
      "Sort ascending:  ['a', 'b', 'c']\n",
      "Sort descending:  ['c', 'b', 'a']\n"
     ]
    }
   ],
   "source": [
    "import string \n",
    "import operator\n",
    "\n",
    "list_1 = ['statistics', 'programming', 2018, 2019, 2020]\n",
    "list_2 = ['a', 'b', 1, 2, 3, 4, 5, 6, 7 ]\n",
    "\n",
    "print('length is : ', len(list_1))\n",
    "\n",
    "print('concatenation : ',[1,2,3,4] + [5,6,7,8,9])\n",
    "\n",
    "print('repetation : ', ['hello'] *4)\n",
    "\n",
    "print('membership : ', 3 in [1,2,3,4])\n",
    "\n",
    "print('iteration : ')\n",
    "for x in [1,2,3,4,5]:\n",
    "    print(x)\n",
    "    \n",
    "print('slicing : ',list_1[-3])   \n",
    "\n",
    "print('slice range : ',list_1[1:])\n",
    "\n",
    "print('max in list : ', max([1,2,3,7,9,90,99]))\n",
    "\n",
    "print('max in list : ', min([1,2,3,7,9,90,99]))\n",
    "\n",
    "print('count number of 10 in the list : ', [2,3,4,10,5,6,7,10].count(10))\n",
    "\n",
    "list_1.extend(list_2)\n",
    "print(list_1)\n",
    "\n",
    "print(\"index for programming:\",list_1.index('programming'))\n",
    "print (list_1)\n",
    "\n",
    "print(\"pop last item in list: \", list_1.pop())\n",
    "\n",
    "print(\"pop the item with index 2: \", list_1.pop(2))\n",
    "\n",
    "list_1.remove('b')\n",
    "print(\"removed b from list: \", list_1)\n",
    "\n",
    "list_1.reverse()\n",
    "print(\"Reverse: \", list_1)\n",
    "\n",
    "list_1 = ['a','c','b']\n",
    "list_1.sort()\n",
    "print(\"Sort ascending: \", list_1)\n",
    "\n",
    "list_1.sort(reverse = True)\n",
    "print(\"Sort descending: \", list_1)"
   ]
  },
  {
   "cell_type": "markdown",
   "metadata": {},
   "source": [
    "# Tuple"
   ]
  },
  {
   "cell_type": "code",
   "execution_count": 2,
   "metadata": {},
   "outputs": [
    {
     "name": "stdout",
     "output_type": "stream",
     "text": [
      "empty tuple:  ()\n",
      "tuple with single item:  (1,)\n",
      "sample tuple : ('a', 'b', 'c', 'd', 1, 2, 3)\n"
     ]
    }
   ],
   "source": [
    "tuple = ()\n",
    "print(\"empty tuple: \", tuple)\n",
    "tuple = (1,)\n",
    "print(\"tuple with single item: \", tuple)\n",
    "tuple = ('a','b','c','d',1,2,3)\n",
    "print(\"sample tuple :\", tuple)"
   ]
  },
  {
   "cell_type": "code",
   "execution_count": 5,
   "metadata": {},
   "outputs": [
    {
     "name": "stdout",
     "output_type": "stream",
     "text": [
      "3rd item of tuple: c\n",
      "first 3 items of tuple ('a', 'b', 'c')\n"
     ]
    }
   ],
   "source": [
    "tuple = ('a', 'b', 'c', 'd', 1, 2, 3)\n",
    "print(\"3rd item of tuple:\", tuple[2])\n",
    "print(\"first 3 items of tuple\", tuple[0:3])"
   ]
  },
  {
   "cell_type": "code",
   "execution_count": 9,
   "metadata": {},
   "outputs": [
    {
     "name": "stdout",
     "output_type": "stream",
     "text": [
      "sample tuple:  ('a', 'b', 'c', 'd', 1, 2, 3)\n",
      "<class 'tuple'>\n"
     ]
    }
   ],
   "source": [
    "tuple = ('a', 'b', 'c', 'd', 1, 2, 3)\n",
    "print(\"sample tuple: \", tuple)\n",
    "del tuple\n",
    "print(tuple)"
   ]
  },
  {
   "cell_type": "code",
   "execution_count": 14,
   "metadata": {},
   "outputs": [
    {
     "name": "stdout",
     "output_type": "stream",
     "text": [
      "length of tuple:  7\n",
      "concatinated tuple:  ('a', 'b', 'c', 'd', 1, 2, 3, 7, 8, 9)\n",
      "repetition:  (1, 'a', 2, 'b', 1, 'a', 2, 'b', 1, 'a', 2, 'b')\n",
      "membership check:  True\n",
      "1\n",
      "2\n",
      "3\n",
      "negative sign will retrieve item from right:  8\n",
      "sliced tuple [2:]  ('c', 'd', 1, 2, 3, 7, 8, 9)\n",
      "max of the tuple (1,2,3,4,5,6,7,8,9,10):  10\n",
      "min of the tuple (1,2,3,4,5,6,7,8,9,10):  1\n"
     ]
    }
   ],
   "source": [
    "tuple = ('a', 'b', 'c', 'd', 1, 2, 3)\n",
    "print(\"length of tuple: \", len(tuple))\n",
    "tuple_concat = tuple + (7,8,9)\n",
    "print(\"concatinated tuple: \", tuple_concat)\n",
    "\n",
    "print(\"repetition: \", (1,'a',2, 'b') * 3)\n",
    "print(\"membership check: \", 3 in (1,2,3))\n",
    "\n",
    "for x in (1, 2, 3): print(x)\n",
    "print(\"negative sign will retrieve item from right: \", tuple_concat[-2])\n",
    "print(\"sliced tuple [2:] \", tuple_concat[2:])\n",
    "\n",
    "print(\"max of the tuple (1,2,3,4,5,6,7,8,9,10): \",\n",
    "max((1,2,3,4,5,6,7,8,9,10)))\n",
    "\n",
    "print(\"min of the tuple (1,2,3,4,5,6,7,8,9,10): \",\n",
    "min((1,2,3,4,5,6,7,8,9,10)))"
   ]
  },
  {
   "cell_type": "markdown",
   "metadata": {},
   "source": [
    "# Dictionary"
   ]
  },
  {
   "cell_type": "code",
   "execution_count": 16,
   "metadata": {},
   "outputs": [
    {
     "name": "stdout",
     "output_type": "stream",
     "text": [
      "sample dictionary:  {'Name': 'Karthik', 'Age': 21, 'Class': 'Fourth Year'}\n"
     ]
    }
   ],
   "source": [
    "dict = {'Name': 'Karthik', 'Age': 21, 'Class': 'Fourth Year'}\n",
    "print(\"sample dictionary: \", dict)"
   ]
  },
  {
   "cell_type": "code",
   "execution_count": 17,
   "metadata": {},
   "outputs": [
    {
     "name": "stdout",
     "output_type": "stream",
     "text": [
      "value of key name, from sample dictionary: Karthik\n"
     ]
    }
   ],
   "source": [
    "print(\"value of key name, from sample dictionary:\", dict['Name'])"
   ]
  },
  {
   "cell_type": "code",
   "execution_count": 21,
   "metadata": {},
   "outputs": [
    {
     "name": "stdout",
     "output_type": "stream",
     "text": [
      "sample dictionary:  {'Name': 'Karthik', 'Age': 21, 'Class': 'Fourth Year'}\n",
      "1 Name Karthik\n",
      "2 Age 21\n",
      "3 Class Fourth Year\n",
      "sample dictionary post deletion of item Name: {'Age': 21, 'Class': 'Fourth Year'}\n",
      "dict post dict.clear(): {}\n"
     ]
    }
   ],
   "source": [
    "dict0 = {'Name': 'Karthik', 'Age': 21, 'Class': 'Fourth Year'}\n",
    "print(\"sample dictionary: \", dict0)\n",
    "k=1\n",
    "for i in dict0:\n",
    "    print(k,i,dict0[i])\n",
    "    k=k+1\n",
    "del (dict0['Name'])\n",
    "\n",
    "print(\"sample dictionary post deletion of item Name:\", dict0)\n",
    "\n",
    "dict0 = {'Name': 'Karthik', 'Age': 21, 'Class': 'Fourth Year'}\n",
    "dict0.clear() \n",
    "print(\"dict post dict.clear():\", dict0)\n",
    "\n",
    "dict = {'Name': 'Karthik', 'Age': 21, 'Class': 'Fourth Year'}\n",
    "del (dict0) "
   ]
  },
  {
   "cell_type": "code",
   "execution_count": 23,
   "metadata": {},
   "outputs": [
    {
     "name": "stdout",
     "output_type": "stream",
     "text": [
      "length of dict:  3\n",
      "copy:\n",
      " {'Name': 'Karthik', 'Age': 21, 'Class': 'Fourth Year'}\n",
      "value for age:  21\n",
      "dict items:  dict_items([('Name', 'Karthik'), ('Age', 21), ('Class', 'Fourth Year')])\n",
      "dict keys:  dict_keys(['Name', 'Age', 'Class'])\n",
      "value of dict:  dict_values(['Karthik', 21, 'Fourth Year'])\n",
      "dict1.update(dict2) =  {'Name': 'Karthik', 'Age': 21, 'Sex': 'male'}\n"
     ]
    }
   ],
   "source": [
    "dict = {'Name': 'Karthik', 'Age': 21, 'Class': 'Fourth Year'}\n",
    "print(\"length of dict: \", len(dict))\n",
    "\n",
    "dict1 = dict.copy()\n",
    "print(\"copy:\\n\",dict1)\n",
    "\n",
    "print(\"value for age: \", dict.get('Age'))\n",
    "\n",
    "print(\"dict items: \", dict.items())\n",
    "\n",
    "\n",
    "print(\"dict keys: \", dict.keys())\n",
    "\n",
    "\n",
    "print(\"value of dict: \", dict.values())\n",
    "\n",
    "\n",
    "dict1 = {'Name': 'Karthik', 'Age': 21}\n",
    "\n",
    "dict2 = {'Sex': 'male' }\n",
    "\n",
    "dict1.update(dict2)\n",
    "print(\"dict1.update(dict2) = \", dict1)"
   ]
  },
  {
   "cell_type": "markdown",
   "metadata": {},
   "source": [
    "# User Defined Function"
   ]
  },
  {
   "cell_type": "code",
   "execution_count": 25,
   "metadata": {},
   "outputs": [
    {
     "name": "stdout",
     "output_type": "stream",
     "text": [
      "Hello World\n"
     ]
    }
   ],
   "source": [
    "def somefunction():\n",
    "    print(\"Hello World\")\n",
    "\n",
    "\n",
    "somefunction()"
   ]
  },
  {
   "cell_type": "code",
   "execution_count": 26,
   "metadata": {},
   "outputs": [
    {
     "name": "stdout",
     "output_type": "stream",
     "text": [
      "3\n"
     ]
    }
   ],
   "source": [
    "def sum_two_numbers(x, y):\n",
    "        return x + y\n",
    "\n",
    "\n",
    "print(sum_two_numbers(1,2))"
   ]
  },
  {
   "cell_type": "code",
   "execution_count": 27,
   "metadata": {},
   "outputs": [
    {
     "name": "stdout",
     "output_type": "stream",
     "text": [
      "20\n"
     ]
    }
   ],
   "source": [
    "x = 10\n",
    "\n",
    "def sum_two_numbers(y):\n",
    "    return x + y\n",
    "\n",
    "print(sum_two_numbers(10))"
   ]
  },
  {
   "cell_type": "code",
   "execution_count": 28,
   "metadata": {},
   "outputs": [
    {
     "name": "stdout",
     "output_type": "stream",
     "text": [
      "1\n",
      "2\n",
      "3\n"
     ]
    }
   ],
   "source": [
    "def sample_function(*args):\n",
    "    for a in args:\n",
    "        print(a)\n",
    "\n",
    "sample_function(1,2,3)"
   ]
  },
  {
   "cell_type": "code",
   "execution_count": 29,
   "metadata": {},
   "outputs": [
    {
     "name": "stdout",
     "output_type": "stream",
     "text": [
      "name Karthik\n",
      "age 21\n"
     ]
    }
   ],
   "source": [
    "def sample_function(**args):\n",
    "    for a in args:\n",
    "        print(a, args[a])\n",
    "\n",
    "sample_function(name='Karthik', age=21)"
   ]
  },
  {
   "cell_type": "code",
   "execution_count": 33,
   "metadata": {},
   "outputs": [
    {
     "name": "stdout",
     "output_type": "stream",
     "text": [
      "function add : 3\n",
      "lamda add : 3\n"
     ]
    }
   ],
   "source": [
    "def add(a, b): \n",
    "    return a + b\n",
    "print(\"function add :\",add(1,2))\n",
    "\n",
    "add = lambda u, v : u + v \n",
    "print(\"lamda add :\",add(1,2))"
   ]
  }
 ],
 "metadata": {
  "kernelspec": {
   "display_name": "Python 3.7.2 64-bit",
   "language": "python",
   "name": "python37264bitcfbb875b6ac4440ab79e51007f21148e"
  },
  "language_info": {
   "codemirror_mode": {
    "name": "ipython",
    "version": 3
   },
   "file_extension": ".py",
   "mimetype": "text/x-python",
   "name": "python",
   "nbconvert_exporter": "python",
   "pygments_lexer": "ipython3",
   "version": "3.7.2"
  }
 },
 "nbformat": 4,
 "nbformat_minor": 4
}
