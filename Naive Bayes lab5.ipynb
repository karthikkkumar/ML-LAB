{
 "cells": [
  {
   "cell_type": "markdown",
   "metadata": {},
   "source": [
    "# NAIVE BAYES CLASSIFIER"
   ]
  },
  {
   "cell_type": "code",
   "execution_count": 1,
   "metadata": {},
   "outputs": [],
   "source": [
    "import csv, random, math\n",
    "import statistics as st"
   ]
  },
  {
   "cell_type": "code",
   "execution_count": 2,
   "metadata": {},
   "outputs": [],
   "source": [
    "def loadCsv(filename):\n",
    "    lines = csv.reader(open(filename, \"r\"))\n",
    "    dataset = list(lines)\n",
    "    for i in range(len(dataset)):\n",
    "        dataset[i] = [float(x) for x in dataset[i]]\n",
    "    return dataset"
   ]
  },
  {
   "cell_type": "code",
   "execution_count": 3,
   "metadata": {},
   "outputs": [],
   "source": [
    "def splitDataset(dataset, splitRatio):\n",
    "    testSize = int(len(dataset) * splitRatio)\n",
    "    trainSet = list(dataset)\n",
    "    testSet = []\n",
    "    while len(testSet) < testSize:\n",
    "        index = random.randrange(len(trainSet))\n",
    "        testSet.append(trainSet.pop(index))\n",
    "    return [trainSet, testSet]"
   ]
  },
  {
   "cell_type": "code",
   "execution_count": 4,
   "metadata": {},
   "outputs": [],
   "source": [
    "def separateByClass(dataset):\n",
    "    separated = {}\n",
    "    for i in range(len(dataset)):\n",
    "        x = dataset[i]\n",
    "        if (x[-1] not in separated):\n",
    "            separated[x[-1]] = []\n",
    "        separated[x[-1]].append(x)\n",
    "    return separated"
   ]
  },
  {
   "cell_type": "code",
   "execution_count": 5,
   "metadata": {},
   "outputs": [],
   "source": [
    "def compute_mean_std(dataset):\n",
    "    mean_std=[(st.mean(attribute),st.stdev(attribute))\n",
    "        for attribute in zip(*dataset)];\n",
    "    del mean_std[-1]\n",
    "    return mean_std"
   ]
  },
  {
   "cell_type": "code",
   "execution_count": 6,
   "metadata": {},
   "outputs": [],
   "source": [
    "def summarizeByClass(dataset):\n",
    "    separated = separateByClass(dataset)\n",
    "    summary = {}\n",
    "    for classValue, instances in separated.items():\n",
    "        summary[classValue] = compute_mean_std(instances)\n",
    "    return summary"
   ]
  },
  {
   "cell_type": "code",
   "execution_count": 7,
   "metadata": {},
   "outputs": [],
   "source": [
    "def estimateProbability(x, mean, stdev):\n",
    "    exponent = math.exp(-(math.pow(x-mean,2)/(2*math.pow(stdev,2))))\n",
    "    return (1 / (math.sqrt(2*math.pi) * stdev)) * exponent"
   ]
  },
  {
   "cell_type": "code",
   "execution_count": 8,
   "metadata": {},
   "outputs": [],
   "source": [
    "def calculateClassProbabilities(summaries, testVector):\n",
    "    p = {}\n",
    "    for classValue, classSummaries in summaries.items():\n",
    "        p[classValue] = 1\n",
    "        for i in range(len(classSummaries)):\n",
    "            mean, stdev = classSummaries[i]\n",
    "            x = testVector[i]\n",
    "            p[classValue] *= estimateProbability(x, mean, stdev);\n",
    "    return p"
   ]
  },
  {
   "cell_type": "code",
   "execution_count": 9,
   "metadata": {},
   "outputs": [],
   "source": [
    "def predict(summaries, testVector):\n",
    "    all_p = calculateClassProbabilities(summaries, testVector)\n",
    "    bestLabel, bestProb = None, -1\n",
    "    for lb1, p in all_p.items():\n",
    "        if bestLabel is None or p > bestProb:\n",
    "            bestProb = p\n",
    "            bestLabel = lb1\n",
    "    return bestLabel"
   ]
  },
  {
   "cell_type": "code",
   "execution_count": 10,
   "metadata": {},
   "outputs": [],
   "source": [
    "def perform_classification(summaries, testSet):\n",
    "    predictions = []\n",
    "    for i in range(len(testSet)):\n",
    "       result = predict(summaries, testSet[i])\n",
    "       predictions.append(result)\n",
    "    return predictions"
   ]
  },
  {
   "cell_type": "code",
   "execution_count": 11,
   "metadata": {},
   "outputs": [],
   "source": [
    "def getAccuracy(testSet, predictions):\n",
    "   correct = 0\n",
    "   for i in range(len(testSet)):\n",
    "       if testSet[i][-1] == predictions[i]:\n",
    "           correct += 1\n",
    "   return (correct/float(len(testSet))) * 100.0"
   ]
  },
  {
   "cell_type": "code",
   "execution_count": 12,
   "metadata": {},
   "outputs": [
    {
     "name": "stdout",
     "output_type": "stream",
     "text": [
      "Pima Indian Diabetes datset loaded...\n",
      "Total instances available :  768\n",
      "Total attributes present :  8\n",
      "First five instances of dataset : \n",
      "1 : [6.0, 148.0, 72.0, 35.0, 0.0, 33.6, 0.627, 50.0, 1.0]\n",
      "2 : [1.0, 85.0, 66.0, 29.0, 0.0, 26.6, 0.351, 31.0, 0.0]\n",
      "3 : [8.0, 183.0, 64.0, 0.0, 0.0, 23.3, 0.672, 32.0, 1.0]\n",
      "4 : [1.0, 89.0, 66.0, 23.0, 94.0, 28.1, 0.167, 21.0, 0.0]\n",
      "5 : [0.0, 137.0, 40.0, 35.0, 168.0, 43.1, 2.288, 33.0, 1.0]\n",
      "\n",
      "Dataset is split into training and testing set.\n",
      "Training examples=615 \n",
      "Testing examples=153\n",
      "\n",
      "Accuracy of the Naive Bayes Classifier is: 72.54901960784314\n"
     ]
    }
   ],
   "source": [
    "dataset=loadCsv(\"diabetes.csv\");\n",
    "print(\"Pima Indian Diabetes datset loaded...\")\n",
    "print(\"Total instances available : \",len(dataset))\n",
    "print(\"Total attributes present : \",len(dataset[0])-1)\n",
    "print(\"First five instances of dataset : \")\n",
    "for i in range(5):\n",
    "    print(i+1,\":\",dataset[i])\n",
    "splitRatio=0.2\n",
    "trainingSet,testSet=splitDataset(dataset,splitRatio)\n",
    "print(\"\\nDataset is split into training and testing set.\")\n",
    "print(\"Training examples={0} \\nTesting examples={1}\".format(len(trainingSet),len(testSet)))\n",
    "summaries=summarizeByClass(trainingSet);\n",
    "predictions=perform_classification(summaries,testSet)\n",
    "accuracy=getAccuracy(testSet,predictions)\n",
    "print(\"\\nAccuracy of the Naive Bayes Classifier is:\",accuracy)"
   ]
  },
  {
   "cell_type": "code",
   "execution_count": null,
   "metadata": {},
   "outputs": [],
   "source": []
  }
 ],
 "metadata": {
  "kernelspec": {
   "display_name": "Python 3.7.2 64-bit",
   "language": "python",
   "name": "python37264bitcfbb875b6ac4440ab79e51007f21148e"
  },
  "language_info": {
   "codemirror_mode": {
    "name": "ipython",
    "version": 3
   },
   "file_extension": ".py",
   "mimetype": "text/x-python",
   "name": "python",
   "nbconvert_exporter": "python",
   "pygments_lexer": "ipython3",
   "version": "3.7.2"
  }
 },
 "nbformat": 4,
 "nbformat_minor": 4
}
